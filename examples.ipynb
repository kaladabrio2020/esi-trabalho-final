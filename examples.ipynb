{
 "cells": [
  {
   "cell_type": "code",
   "execution_count": 2,
   "id": "f6a398ff",
   "metadata": {},
   "outputs": [],
   "source": [
    "import pandas as pd\n",
    "import numpy as np\n",
    "import matplotlib.pyplot as plt"
   ]
  },
  {
   "cell_type": "markdown",
   "id": "f34e0781",
   "metadata": {},
   "source": [
    "Baixando dados"
   ]
  },
  {
   "cell_type": "code",
   "execution_count": 3,
   "id": "eb7d1d0c",
   "metadata": {},
   "outputs": [],
   "source": [
    "import os\n",
    "import json\n",
    "\n",
    "# Carregar credenciais do arquivo local\n",
    "with open('.kaggle/kaggle-token.json', 'r') as f:\n",
    "    credentials = json.load(f)\n",
    "\n",
    "# Definir as variáveis de ambiente\n",
    "os.environ['KAGGLE_USERNAME'] = credentials['username']\n",
    "os.environ['KAGGLE_KEY'] = credentials['key']"
   ]
  },
  {
   "cell_type": "code",
   "execution_count": 4,
   "id": "55086b44",
   "metadata": {},
   "outputs": [],
   "source": [
    "from kaggle.api.kaggle_api_extended import KaggleApi\n",
    "\n",
    "kaggle = KaggleApi()\n",
    "kaggle.authenticate()"
   ]
  },
  {
   "cell_type": "markdown",
   "id": "4d33d276",
   "metadata": {},
   "source": [
    "Definindo dataset"
   ]
  },
  {
   "cell_type": "code",
   "execution_count": 5,
   "id": "5bcc8bb8",
   "metadata": {},
   "outputs": [],
   "source": [
    "import kaggle"
   ]
  },
  {
   "cell_type": "code",
   "execution_count": 6,
   "id": "6346e7c1",
   "metadata": {},
   "outputs": [],
   "source": [
    "dataset_name = 'asaniczka/canada-optimal-product-price-prediction'"
   ]
  },
  {
   "cell_type": "code",
   "execution_count": 7,
   "id": "a9714a3c",
   "metadata": {},
   "outputs": [
    {
     "name": "stdout",
     "output_type": "stream",
     "text": [
      "Pasta 'data' criada com sucesso!\n",
      "Erro ao baixar: module 'ntpath' has no attribute 'exist'\n"
     ]
    }
   ],
   "source": [
    "try:\n",
    "    # Criar pasta para os dados\n",
    "    os.makedirs('data', exist_ok=True)\n",
    "    \n",
    "    if os.path.exists('data'):\n",
    "        print(\"Pasta 'data' criada com sucesso!\")\n",
    "    # Baixar e descompactar\n",
    "    if not (os.path.exist('test-data/amz_ca_price_prediction_dataset.csv')):\n",
    "        kaggle.api.dataset_download_files(\n",
    "            dataset_name, \n",
    "            path='./test-data', \n",
    "            unzip=True\n",
    "        )\n",
    "    \n",
    "    print(\"Dataset baixado com sucesso na pasta 'data'!\")\n",
    "    \n",
    "    # Listar arquivos baixados\n",
    "    import os\n",
    "    arquivos = os.listdir('data')\n",
    "    print(\"Arquivos baixados:\", arquivos)\n",
    "    \n",
    "except Exception as e:\n",
    "    print(f\"Erro ao baixar: {e}\")"
   ]
  },
  {
   "cell_type": "markdown",
   "id": "a34fd697",
   "metadata": {},
   "source": [
    "Lendo arquivo"
   ]
  },
  {
   "cell_type": "code",
   "execution_count": 8,
   "id": "c1133614",
   "metadata": {},
   "outputs": [],
   "source": [
    "import pandas as pd"
   ]
  },
  {
   "cell_type": "code",
   "execution_count": 9,
   "id": "0004160b",
   "metadata": {},
   "outputs": [],
   "source": [
    "dataset = pd.read_csv('test-data\\\\amz_ca_price_prediction_dataset.csv')"
   ]
  },
  {
   "cell_type": "code",
   "execution_count": 10,
   "id": "0d35d820",
   "metadata": {},
   "outputs": [
    {
     "data": {
      "text/html": [
       "<div>\n",
       "<style scoped>\n",
       "    .dataframe tbody tr th:only-of-type {\n",
       "        vertical-align: middle;\n",
       "    }\n",
       "\n",
       "    .dataframe tbody tr th {\n",
       "        vertical-align: top;\n",
       "    }\n",
       "\n",
       "    .dataframe thead th {\n",
       "        text-align: right;\n",
       "    }\n",
       "</style>\n",
       "<table border=\"1\" class=\"dataframe\">\n",
       "  <thead>\n",
       "    <tr style=\"text-align: right;\">\n",
       "      <th></th>\n",
       "      <th>uid</th>\n",
       "      <th>asin</th>\n",
       "      <th>title</th>\n",
       "      <th>stars</th>\n",
       "      <th>reviews</th>\n",
       "      <th>price</th>\n",
       "      <th>category</th>\n",
       "      <th>isBestSeller</th>\n",
       "      <th>boughtInLastMonth</th>\n",
       "    </tr>\n",
       "  </thead>\n",
       "  <tbody>\n",
       "    <tr>\n",
       "      <th>0</th>\n",
       "      <td>1</td>\n",
       "      <td>B07CV4L6HX</td>\n",
       "      <td>Green Leaf WW3D Wonder Extension Cord Winder, ...</td>\n",
       "      <td>4.4</td>\n",
       "      <td>2876</td>\n",
       "      <td>47.69</td>\n",
       "      <td>Industrial  Scientific</td>\n",
       "      <td>False</td>\n",
       "      <td>0</td>\n",
       "    </tr>\n",
       "    <tr>\n",
       "      <th>1</th>\n",
       "      <td>2</td>\n",
       "      <td>B09N1HGY74</td>\n",
       "      <td>8pcs Toilet Seat Bumpers Universal Toilet Repl...</td>\n",
       "      <td>3.8</td>\n",
       "      <td>55</td>\n",
       "      <td>10.99</td>\n",
       "      <td>Industrial  Scientific</td>\n",
       "      <td>False</td>\n",
       "      <td>100</td>\n",
       "    </tr>\n",
       "    <tr>\n",
       "      <th>2</th>\n",
       "      <td>3</td>\n",
       "      <td>B087P7538J</td>\n",
       "      <td>YaeCCC 19 Pcs Hole Saw Kit 3/4''(19mm)- 6''(15...</td>\n",
       "      <td>4.0</td>\n",
       "      <td>126</td>\n",
       "      <td>25.99</td>\n",
       "      <td>Industrial  Scientific</td>\n",
       "      <td>False</td>\n",
       "      <td>50</td>\n",
       "    </tr>\n",
       "  </tbody>\n",
       "</table>\n",
       "</div>"
      ],
      "text/plain": [
       "   uid        asin                                              title  stars  \\\n",
       "0    1  B07CV4L6HX  Green Leaf WW3D Wonder Extension Cord Winder, ...    4.4   \n",
       "1    2  B09N1HGY74  8pcs Toilet Seat Bumpers Universal Toilet Repl...    3.8   \n",
       "2    3  B087P7538J  YaeCCC 19 Pcs Hole Saw Kit 3/4''(19mm)- 6''(15...    4.0   \n",
       "\n",
       "   reviews  price                category  isBestSeller  boughtInLastMonth  \n",
       "0     2876  47.69  Industrial  Scientific         False                  0  \n",
       "1       55  10.99  Industrial  Scientific         False                100  \n",
       "2      126  25.99  Industrial  Scientific         False                 50  "
      ]
     },
     "execution_count": 10,
     "metadata": {},
     "output_type": "execute_result"
    }
   ],
   "source": [
    "dataset.head(3)"
   ]
  },
  {
   "cell_type": "code",
   "execution_count": 11,
   "id": "bc014b4f",
   "metadata": {},
   "outputs": [],
   "source": [
    "data = dataset.copy(deep=True)"
   ]
  },
  {
   "cell_type": "markdown",
   "id": "9c9b400f",
   "metadata": {},
   "source": [
    "Verificando dados nulos"
   ]
  },
  {
   "cell_type": "code",
   "execution_count": 12,
   "id": "3246159f",
   "metadata": {},
   "outputs": [
    {
     "data": {
      "text/plain": [
       "uid                  0\n",
       "asin                 0\n",
       "title                6\n",
       "stars                0\n",
       "reviews              0\n",
       "price                0\n",
       "category             0\n",
       "isBestSeller         0\n",
       "boughtInLastMonth    0\n",
       "dtype: int64"
      ]
     },
     "execution_count": 12,
     "metadata": {},
     "output_type": "execute_result"
    }
   ],
   "source": [
    "data.isna().sum()"
   ]
  },
  {
   "cell_type": "code",
   "execution_count": 13,
   "id": "35736735",
   "metadata": {},
   "outputs": [
    {
     "data": {
      "text/plain": [
       "(2666481, 9)"
      ]
     },
     "execution_count": 13,
     "metadata": {},
     "output_type": "execute_result"
    }
   ],
   "source": [
    "data.shape"
   ]
  },
  {
   "cell_type": "markdown",
   "id": "f6356b6d",
   "metadata": {},
   "source": [
    "Removendo dados nulos"
   ]
  },
  {
   "cell_type": "code",
   "execution_count": 14,
   "id": "153bb200",
   "metadata": {},
   "outputs": [
    {
     "name": "stdout",
     "output_type": "stream",
     "text": [
      "Colunas que possuem dados nulos\n",
      "title: 6\n",
      "Removendo dados nulos\n",
      "Removidos\n"
     ]
    }
   ],
   "source": [
    "# Quandidade de dados nulos\n",
    "subset = data.isna().sum()\n",
    "print('Colunas que possuem dados nulos')\n",
    "for col, count in subset.items():\n",
    "    if count > 0:\n",
    "        print(f'{col}: {count}')\n",
    "\n",
    "# Removendo dados nulos \n",
    "print('Removendo dados nulos')\n",
    "\n",
    "data.dropna(inplace=True)\n",
    "\n",
    "print(\"Removidos\")"
   ]
  },
  {
   "cell_type": "markdown",
   "id": "d8312927",
   "metadata": {},
   "source": [
    "Verificando dados unicos"
   ]
  },
  {
   "cell_type": "code",
   "execution_count": 15,
   "id": "fc8fa25c",
   "metadata": {},
   "outputs": [
    {
     "name": "stdout",
     "output_type": "stream",
     "text": [
      "Verificando dados únicos e se eles aproximam da quantidade instancias\n",
      "Criando coluna com porcentagem\n",
      "Removendo colunas com 99% de dados unicos(poder ser uma chave estrangeira)\n",
      "Removendo colunas\n",
      " => ['uid']\n",
      "Removendo a coluna asin\n"
     ]
    }
   ],
   "source": [
    "print(\"Verificando dados únicos e se eles aproximam da quantidade instancias\")\n",
    "count_unique = data.nunique().reset_index(name='count')\n",
    "tamanho      = data.shape[0]\n",
    "\n",
    "print(\"Criando coluna com porcentagem\")\n",
    "count_unique['porcentagem'] = count_unique['count'].apply(lambda x: round((x / tamanho) * 100, 2))\n",
    "\n",
    "print(\"Removendo colunas com 99% de dados unicos(poder ser uma chave estrangeira)\")\n",
    "\n",
    "col = count_unique[ count_unique['porcentagem'] > 99]['index'].values \n",
    "\n",
    "print(\"Removendo colunas\")\n",
    "print(\" =>\",col)\n",
    "data.drop(col, axis=1, inplace=True)\n",
    "\n",
    "print(\"Removendo a coluna asin\")\n",
    "\n",
    "data.drop('asin', axis=1, inplace=True)"
   ]
  },
  {
   "cell_type": "code",
   "execution_count": 16,
   "id": "32a5b150",
   "metadata": {},
   "outputs": [
    {
     "data": {
      "text/html": [
       "<div>\n",
       "<style scoped>\n",
       "    .dataframe tbody tr th:only-of-type {\n",
       "        vertical-align: middle;\n",
       "    }\n",
       "\n",
       "    .dataframe tbody tr th {\n",
       "        vertical-align: top;\n",
       "    }\n",
       "\n",
       "    .dataframe thead th {\n",
       "        text-align: right;\n",
       "    }\n",
       "</style>\n",
       "<table border=\"1\" class=\"dataframe\">\n",
       "  <thead>\n",
       "    <tr style=\"text-align: right;\">\n",
       "      <th></th>\n",
       "      <th>title</th>\n",
       "      <th>stars</th>\n",
       "      <th>reviews</th>\n",
       "      <th>price</th>\n",
       "      <th>category</th>\n",
       "      <th>isBestSeller</th>\n",
       "      <th>boughtInLastMonth</th>\n",
       "    </tr>\n",
       "  </thead>\n",
       "  <tbody>\n",
       "    <tr>\n",
       "      <th>0</th>\n",
       "      <td>Green Leaf WW3D Wonder Extension Cord Winder, ...</td>\n",
       "      <td>4.4</td>\n",
       "      <td>2876</td>\n",
       "      <td>47.69</td>\n",
       "      <td>Industrial  Scientific</td>\n",
       "      <td>False</td>\n",
       "      <td>0</td>\n",
       "    </tr>\n",
       "    <tr>\n",
       "      <th>1</th>\n",
       "      <td>8pcs Toilet Seat Bumpers Universal Toilet Repl...</td>\n",
       "      <td>3.8</td>\n",
       "      <td>55</td>\n",
       "      <td>10.99</td>\n",
       "      <td>Industrial  Scientific</td>\n",
       "      <td>False</td>\n",
       "      <td>100</td>\n",
       "    </tr>\n",
       "  </tbody>\n",
       "</table>\n",
       "</div>"
      ],
      "text/plain": [
       "                                               title  stars  reviews  price  \\\n",
       "0  Green Leaf WW3D Wonder Extension Cord Winder, ...    4.4     2876  47.69   \n",
       "1  8pcs Toilet Seat Bumpers Universal Toilet Repl...    3.8       55  10.99   \n",
       "\n",
       "                 category  isBestSeller  boughtInLastMonth  \n",
       "0  Industrial  Scientific         False                  0  \n",
       "1  Industrial  Scientific         False                100  "
      ]
     },
     "execution_count": 16,
     "metadata": {},
     "output_type": "execute_result"
    }
   ],
   "source": [
    "data.head(2)"
   ]
  },
  {
   "cell_type": "markdown",
   "id": "f721ec90",
   "metadata": {},
   "source": [
    "Tokenizando colunas"
   ]
  },
  {
   "cell_type": "code",
   "execution_count": 17,
   "id": "a5b0a9e2",
   "metadata": {},
   "outputs": [],
   "source": [
    "import keras\n",
    "import tensorflow as tf"
   ]
  },
  {
   "cell_type": "code",
   "execution_count": 18,
   "id": "17cd39e4",
   "metadata": {},
   "outputs": [
    {
     "name": "stdout",
     "output_type": "stream",
     "text": [
      "Criando 256 batches para reduzir o consumo de memória\n",
      "Criando uma camada de tokenização\n",
      "Tokenizando a coluna \"title\"\n"
     ]
    }
   ],
   "source": [
    "title = data['title'].str.lower()\n",
    "\n",
    "print(\"Criando 256 batches para reduzir o consumo de memória\")\n",
    "ds = tf.data.Dataset.from_tensor_slices(title).batch(256)\n",
    "\n",
    "print(\"Criando uma camada de tokenização\")\n",
    "LAYER = keras.layers.TextVectorization(\n",
    "    output_sequence_length=60,\n",
    "    standardize='lower_and_strip_punctuation',\n",
    "    output_mode='int'\n",
    "    )\n",
    "\n",
    "LAYER.adapt(ds)\n",
    "\n",
    "print('Tokenizando a coluna \"title\"')\n",
    "tokenized_titles = ds.map(lambda x: LAYER(x)) \n",
    "\n"
   ]
  },
  {
   "cell_type": "code",
   "execution_count": 19,
   "id": "49626ea0",
   "metadata": {},
   "outputs": [],
   "source": [
    "tokens_list = []\n",
    "for batch in tokenized_titles:\n",
    "    tokens_list.extend(batch.numpy()) "
   ]
  },
  {
   "cell_type": "code",
   "execution_count": 20,
   "id": "a45af6d0",
   "metadata": {},
   "outputs": [],
   "source": [
    "data['title_tokens'] = tokens_list"
   ]
  },
  {
   "cell_type": "code",
   "execution_count": 21,
   "id": "f7a64cf6",
   "metadata": {},
   "outputs": [],
   "source": [
    "# removenod a coluna title\n",
    "data.drop('title', axis=1, inplace=True)"
   ]
  },
  {
   "cell_type": "code",
   "execution_count": 22,
   "id": "a4d28484",
   "metadata": {},
   "outputs": [
    {
     "name": "stdout",
     "output_type": "stream",
     "text": [
      "tf.Tensor(\n",
      "[[   150    828 227923 ...      0      0      0]\n",
      " [  1660    318    245 ...      0      0      0]\n",
      " [ 29310   1737     40 ...      0      0      0]\n",
      " ...\n",
      " [ 14408    173   1125 ...      0      0      0]\n",
      " [   265   3297    577 ...      0      0      0]\n",
      " [ 60077    294     40 ...      0      0      0]], shape=(256, 60), dtype=int64)\n"
     ]
    }
   ],
   "source": [
    "for i in tokenized_titles:\n",
    "    print(i)\n",
    "    break"
   ]
  },
  {
   "cell_type": "code",
   "execution_count": 23,
   "id": "f9572c9c",
   "metadata": {},
   "outputs": [
    {
     "name": "stdout",
     "output_type": "stream",
     "text": [
      "Atributos categoricos para numericos\n"
     ]
    }
   ],
   "source": [
    "from sklearn.preprocessing import LabelEncoder\n",
    "\n",
    "def label_encoder(x):\n",
    "    return LabelEncoder().fit_transform(x)\n",
    "print(\"Atributos categoricos para numericos\")\n",
    "\n",
    "data['category'] = label_encoder(data['category'])\n",
    "data['isBestSeller'] = label_encoder(data['isBestSeller'])"
   ]
  },
  {
   "cell_type": "markdown",
   "id": "0e3750e3",
   "metadata": {},
   "source": [
    "Verificando outliers"
   ]
  },
  {
   "cell_type": "code",
   "execution_count": 24,
   "id": "f493807b",
   "metadata": {},
   "outputs": [
    {
     "data": {
      "image/png": "[encoded data removed]",
      "text/plain": [
       "<Figure size 640x480 with 1 Axes>"
      ]
     },
     "metadata": {},
     "output_type": "display_data"
    }
   ],
   "source": [
    "plt.boxplot(data['price'])\n",
    "plt.show()"
   ]
  },
  {
   "cell_type": "code",
   "execution_count": 25,
   "id": "67563474",
   "metadata": {},
   "outputs": [
    {
     "name": "stdout",
     "output_type": "stream",
     "text": [
      "Será removido  194231  instancias no qual o preços são menores que zero\n"
     ]
    }
   ],
   "source": [
    "# Removendo preços menores que zero\n",
    "\n",
    "index = data[data['price']<=0].index \n",
    "print(\"Será removido \", len(index), \" instancias no qual o preços são menores que zero\")\n",
    "data.drop(index=index, inplace=True)"
   ]
  },
  {
   "cell_type": "code",
   "execution_count": 26,
   "id": "111f79ff",
   "metadata": {},
   "outputs": [
    {
     "name": "stdout",
     "output_type": "stream",
     "text": [
      "Criando X e y - padrão\n"
     ]
    }
   ],
   "source": [
    "# Criando uma rede neural dos tokens\n",
    "print(\"Criando X e y - padrão\")\n",
    "X = data[['stars', 'reviews','category','isBestSeller', 'boughtInLastMonth']].values\n",
    "y = data['price'].values"
   ]
  },
  {
   "cell_type": "code",
   "execution_count": 27,
   "id": "2a953f40",
   "metadata": {},
   "outputs": [],
   "source": [
    "from sklearn.preprocessing import StandardScaler\n",
    "\n",
    "scaler = StandardScaler()\n",
    "X = scaler.fit_transform(X)"
   ]
  },
  {
   "cell_type": "code",
   "execution_count": 28,
   "id": "2eca6d4b",
   "metadata": {},
   "outputs": [],
   "source": [
    "X = np.float32(X)"
   ]
  },
  {
   "cell_type": "code",
   "execution_count": 29,
   "id": "7a0d93d4",
   "metadata": {},
   "outputs": [
    {
     "data": {
      "text/plain": [
       "(2472244, 5)"
      ]
     },
     "execution_count": 29,
     "metadata": {},
     "output_type": "execute_result"
    }
   ],
   "source": [
    "X.shape"
   ]
  },
  {
   "cell_type": "code",
   "execution_count": 30,
   "id": "8783bd18",
   "metadata": {},
   "outputs": [
    {
     "name": "stdout",
     "output_type": "stream",
     "text": [
      "Criando X e y - tokens = Será criando uma rede neural dos tokens e será unida com padrão\n"
     ]
    }
   ],
   "source": [
    "print(\"Criando X e y - tokens = Será criando uma rede neural dos tokens e será unida com padrão\")\n",
    "X_token = np.float32(np.stack(data['title_tokens'].values))\n",
    "y = np.float32(data['price'].astype(\"float32\").values)"
   ]
  },
  {
   "cell_type": "code",
   "execution_count": 31,
   "id": "b8eadfd4",
   "metadata": {},
   "outputs": [],
   "source": [
    "X = np.concatenate([X, X_token], axis=1)"
   ]
  },
  {
   "cell_type": "code",
   "execution_count": 32,
   "id": "e232d1b5",
   "metadata": {},
   "outputs": [],
   "source": [
    "from sklearn.model_selection import train_test_split"
   ]
  },
  {
   "cell_type": "code",
   "execution_count": 33,
   "id": "92fb3b14",
   "metadata": {},
   "outputs": [],
   "source": [
    "from sklearn.linear_model import SGDRegressor"
   ]
  },
  {
   "cell_type": "code",
   "execution_count": null,
   "id": "6bae684a",
   "metadata": {},
   "outputs": [],
   "source": [
    "sgd = SGDRegressor()\n",
    "sgd.fit(X, y)"
   ]
  },
  {
   "cell_type": "code",
   "execution_count": null,
   "id": "30c4cf74",
   "metadata": {},
   "outputs": [],
   "source": [
    "from sklearn.metrics import mean_squared_error, r2_score"
   ]
  },
  {
   "cell_type": "code",
   "execution_count": null,
   "id": "65b915cd",
   "metadata": {},
   "outputs": [],
   "source": [
    "R2 = r2_score(y, sgd.predict(X))\n",
    "MSE = mean_squared_error(y, sgd.predict(X))\n",
    "print(\"R2: \", R2)\n",
    "print(\"MSE: \", MSE)"
   ]
  },
  {
   "cell_type": "code",
   "execution_count": null,
   "id": "d6b4d90a",
   "metadata": {},
   "outputs": [],
   "source": []
  }
 ],
 "metadata": {
  "kernelspec": {
   "display_name": "venv",
   "language": "python",
   "name": "python3"
  },
  "language_info": {
   "codemirror_mode": {
    "name": "ipython",
    "version": 3
   },
   "file_extension": ".py",
   "mimetype": "text/x-python",
   "name": "python",
   "nbconvert_exporter": "python",
   "pygments_lexer": "ipython3",
   "version": "3.12.10"
  }
 },
 "nbformat": 4,
 "nbformat_minor": 5
}
