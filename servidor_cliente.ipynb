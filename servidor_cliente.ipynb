{
 "cells": [
  {
   "cell_type": "code",
   "execution_count": 146,
   "id": "d7070a54",
   "metadata": {},
   "outputs": [],
   "source": [
    "import requests"
   ]
  },
  {
   "cell_type": "code",
   "execution_count": 147,
   "id": "1bbb0930",
   "metadata": {},
   "outputs": [],
   "source": [
    "data_tuple = [-0.21172082764350847,-0.08031897794684249,0.12615105542420268,-0.6714132102320955,1966,0,1,0,0,1,0,1,0,0,0,0,0,0,0,1,0,0,0,0,1,0,0,0,0,0,0,0,0,1,0,0,0,0,0,0.005707874,0.004699393,0.008689594,-0.0053199935,0.001956374]"
   ]
  },
  {
   "cell_type": "code",
   "execution_count": 148,
   "id": "c603ce41",
   "metadata": {},
   "outputs": [
    {
     "name": "stdout",
     "output_type": "stream",
     "text": [
      "{'result': [370648.18618387147]}\n",
      "200\n"
     ]
    }
   ],
   "source": [
    "# Remova a vírgula no final do requests.post\n",
    "response = requests.post('http://127.0.0.1:5000/predict', json={'data_tuple': data_tuple})\n",
    "\n",
    "# Para pegar o resultado:\n",
    "result = response.json()\n",
    "# Para ver o JSON completo:\n",
    "print(response.json())\n",
    "\n",
    "# Para pegar só o status code:\n",
    "print(response.status_code)"
   ]
  },
  {
   "cell_type": "code",
   "execution_count": 149,
   "id": "0d479968",
   "metadata": {},
   "outputs": [
    {
     "name": "stdout",
     "output_type": "stream",
     "text": [
      "{'name': 'RandomForestRegressor', 'params': {'bootstrap': True, 'ccp_alpha': 0.0, 'criterion': 'squared_error', 'max_depth': 40, 'max_features': 1.0, 'max_leaf_nodes': None, 'max_samples': None, 'min_impurity_decrease': 0.0, 'min_samples_leaf': 6, 'min_samples_split': 5, 'min_weight_fraction_leaf': 0.0, 'monotonic_cst': None, 'n_estimators': 120, 'n_jobs': None, 'oob_score': False, 'random_state': 42, 'verbose': 0, 'warm_start': False}}\n"
     ]
    }
   ],
   "source": [
    "response =  requests.get('http://127.0.0.1:5000/showmodel')\n",
    "\n",
    "print(response.json())"
   ]
  },
  {
   "cell_type": "code",
   "execution_count": 150,
   "id": "ef6f71c2",
   "metadata": {},
   "outputs": [
    {
     "name": "stdout",
     "output_type": "stream",
     "text": [
      "{'features': ['sqft_living', 'sqft_lot', 'sqft_above', 'sqft_basement', 'yr_built', 'yr_renovated', 'floors_1', 'floors_2', 'floors_3', 'waterfront_0', 'waterfront_1', 'view_0', 'view_1', 'view_2', 'view_3', 'view_4', 'condition_1', 'condition_2', 'condition_3', 'condition_4', 'condition_5', 'bedrooms_0.0', 'bedrooms_1.0', 'bedrooms_2.0', 'bedrooms_3.0', 'bedrooms_4.0', 'bedrooms_5.0', 'bedrooms_6.0', 'bedrooms_7.0', 'bedrooms_8.0', 'bedrooms_9.0', 'bathrooms_0', 'bathrooms_1', 'bathrooms_2', 'bathrooms_3', 'bathrooms_4', 'bathrooms_5', 'bathrooms_6', 'bathrooms_8', 'char_token_0', 'char_token_1', 'char_token_2', 'char_token_3', 'char_token_4']}\n"
     ]
    }
   ],
   "source": [
    "response =  requests.get('http://127.0.0.1:5000/features')\n",
    "\n",
    "print(response.json())"
   ]
  },
  {
   "cell_type": "code",
   "execution_count": 151,
   "id": "1e7e8fe7",
   "metadata": {},
   "outputs": [
    {
     "name": "stdout",
     "output_type": "stream",
     "text": [
      "{'mean_absolute_error': 0.2389338636717668, 'mean_squared_error': 0.08896809870783537, 'r2_score': 0.46398834156261337}\n"
     ]
    }
   ],
   "source": [
    "response =  requests.get('http://127.0.0.1:5000/metricsmodel')\n",
    "\n",
    "print(response.json())"
   ]
  },
  {
   "cell_type": "code",
   "execution_count": 152,
   "id": "d69f1714",
   "metadata": {},
   "outputs": [],
   "source": [
    "response =  requests.post('http://127.0.0.1:5000/newtrainmodel', json={'params': {\n",
    "    'max_depth': 3\n",
    "}})  "
   ]
  },
  {
   "cell_type": "code",
   "execution_count": 153,
   "id": "4f7ef302",
   "metadata": {},
   "outputs": [
    {
     "data": {
      "text/plain": [
       "{'mean_absolute_error': 0.2561586803010202,\n",
       " 'mean_squared_error': 0.09776049268216433,\n",
       " 'model': {'bootstrap': True,\n",
       "  'ccp_alpha': 0.0,\n",
       "  'criterion': 'squared_error',\n",
       "  'max_depth': 3,\n",
       "  'max_features': 1.0,\n",
       "  'max_leaf_nodes': None,\n",
       "  'max_samples': None,\n",
       "  'min_impurity_decrease': 0.0,\n",
       "  'min_samples_leaf': 6,\n",
       "  'min_samples_split': 5,\n",
       "  'min_weight_fraction_leaf': 0.0,\n",
       "  'monotonic_cst': None,\n",
       "  'n_estimators': 120,\n",
       "  'n_jobs': None,\n",
       "  'oob_score': False,\n",
       "  'random_state': 42,\n",
       "  'verbose': 0,\n",
       "  'warm_start': False},\n",
       " 'r2_score': 0.4183569756892218}"
      ]
     },
     "execution_count": 153,
     "metadata": {},
     "output_type": "execute_result"
    }
   ],
   "source": [
    "response.json()"
   ]
  },
  {
   "cell_type": "markdown",
   "id": "953f0f24",
   "metadata": {},
   "source": []
  }
 ],
 "metadata": {
  "kernelspec": {
   "display_name": "venv",
   "language": "python",
   "name": "python3"
  },
  "language_info": {
   "codemirror_mode": {
    "name": "ipython",
    "version": 3
   },
   "file_extension": ".py",
   "mimetype": "text/x-python",
   "name": "python",
   "nbconvert_exporter": "python",
   "pygments_lexer": "ipython3",
   "version": "3.12.10"
  }
 },
 "nbformat": 4,
 "nbformat_minor": 5
}
